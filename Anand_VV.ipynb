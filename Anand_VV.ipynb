{
  "nbformat": 4,
  "nbformat_minor": 0,
  "metadata": {
    "colab": {
      "name": "Anand_VV.ipynb",
      "provenance": []
    },
    "kernelspec": {
      "name": "python3",
      "display_name": "Python 3"
    },
    "language_info": {
      "name": "python"
    }
  },
  "cells": [
    {
      "cell_type": "code",
      "metadata": {
        "colab": {
          "base_uri": "https://localhost:8080/"
        },
        "id": "I9NncZfIg6PY",
        "outputId": "fd8a1911-5b0b-4bc0-ea74-e6dd8a912a65"
      },
      "source": [
        "  from keras.datasets import mnist\n",
        "\n",
        "  data = mnist.load_data()\n",
        "  ((X_train, Y_train), (X_test, Y_test)) = data\n",
        "\n",
        "  X_train = X_train.reshape((X_train.shape[0], 28*28)).astype('float32')\n",
        "  X_test = X_test.reshape((X_test.shape[0], 28*28)).astype('float32')\n",
        "  \n",
        "  X_train = X_train / 255\n",
        "  X_test = X_test / 255\n",
        "\n",
        "  from keras.utils import np_utils\n",
        "\n",
        "  print(Y_test.shape)\n",
        "\n",
        "  Y_train = np_utils.to_categorical(Y_train)\n",
        "  Y_test = np_utils.to_categorical(Y_test)\n",
        "\n",
        "  num_classes = Y_test.shape[1]\n",
        "  print(num_classes)\n",
        "\n",
        "  from keras.models import Sequential\n",
        "  from keras.layers import Dense\n",
        "  \n",
        "  model = Sequential()\n",
        "\n",
        "  model.add(Dense(32, input_dim =28*28, activation='relu'))\n",
        "  model.add(Dense(64, activation='relu'))\n",
        "  model.add(Dense(10, activation='softmax')) \n",
        "\n",
        "  model.compile(loss ='categorical_crossentropy', optimizer='adam', metrics=['accuracy'])\n",
        "  model.summary()\n",
        "\n",
        "  model.fit(X_train, Y_train, epochs=10, batch_size=100)\n",
        "\n",
        "  scores = model.evaluate(X_test, Y_test)\n",
        "  print(scores)\n",
        "\n",
        "\n",
        "\n",
        "\n",
        "\n",
        "\n",
        "\n",
        "\n",
        "\n"
      ],
      "execution_count": 10,
      "outputs": [
        {
          "output_type": "stream",
          "text": [
            "(10000,)\n",
            "10\n",
            "Model: \"sequential_3\"\n",
            "_________________________________________________________________\n",
            "Layer (type)                 Output Shape              Param #   \n",
            "=================================================================\n",
            "dense_9 (Dense)              (None, 32)                25120     \n",
            "_________________________________________________________________\n",
            "dense_10 (Dense)             (None, 64)                2112      \n",
            "_________________________________________________________________\n",
            "dense_11 (Dense)             (None, 10)                650       \n",
            "=================================================================\n",
            "Total params: 27,882\n",
            "Trainable params: 27,882\n",
            "Non-trainable params: 0\n",
            "_________________________________________________________________\n",
            "Epoch 1/10\n",
            "600/600 [==============================] - 2s 2ms/step - loss: 0.7867 - accuracy: 0.7702\n",
            "Epoch 2/10\n",
            "600/600 [==============================] - 1s 2ms/step - loss: 0.2126 - accuracy: 0.9381\n",
            "Epoch 3/10\n",
            "600/600 [==============================] - 1s 2ms/step - loss: 0.1603 - accuracy: 0.9522\n",
            "Epoch 4/10\n",
            "600/600 [==============================] - 1s 2ms/step - loss: 0.1301 - accuracy: 0.9611\n",
            "Epoch 5/10\n",
            "600/600 [==============================] - 1s 2ms/step - loss: 0.1133 - accuracy: 0.9659\n",
            "Epoch 6/10\n",
            "600/600 [==============================] - 1s 2ms/step - loss: 0.0990 - accuracy: 0.9691\n",
            "Epoch 7/10\n",
            "600/600 [==============================] - 1s 2ms/step - loss: 0.0838 - accuracy: 0.9747\n",
            "Epoch 8/10\n",
            "600/600 [==============================] - 1s 2ms/step - loss: 0.0812 - accuracy: 0.9747\n",
            "Epoch 9/10\n",
            "600/600 [==============================] - 1s 2ms/step - loss: 0.0707 - accuracy: 0.9780\n",
            "Epoch 10/10\n",
            "600/600 [==============================] - 1s 2ms/step - loss: 0.0658 - accuracy: 0.9795\n",
            "313/313 [==============================] - 0s 999us/step - loss: 0.1086 - accuracy: 0.9661\n",
            "[0.10855118185281754, 0.9660999774932861]\n"
          ],
          "name": "stdout"
        }
      ]
    }
  ]
}